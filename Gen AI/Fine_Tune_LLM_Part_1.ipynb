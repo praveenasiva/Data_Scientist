{
  "nbformat": 4,
  "nbformat_minor": 0,
  "metadata": {
    "colab": {
      "provenance": [],
      "authorship_tag": "ABX9TyMRp7VWtdIPFM8JwWtZwhga",
      "include_colab_link": true
    },
    "kernelspec": {
      "name": "python3",
      "display_name": "Python 3"
    },
    "language_info": {
      "name": "python"
    }
  },
  "cells": [
    {
      "cell_type": "markdown",
      "metadata": {
        "id": "view-in-github",
        "colab_type": "text"
      },
      "source": [
        "<a href=\"https://colab.research.google.com/github/KarthiksShow/FinetuneLLM/blob/main/Fine_Tune_LLM_Part_1.ipynb\" target=\"_parent\"><img src=\"https://colab.research.google.com/assets/colab-badge.svg\" alt=\"Open In Colab\"/></a>"
      ]
    },
    {
      "cell_type": "code",
      "execution_count": null,
      "metadata": {
        "id": "RO4FioOVx5wS"
      },
      "outputs": [],
      "source": [
        "from transformers import AutoModelForCausalLM, AutoTokenizer\n",
        "model = AutoModelForCausalLM.from_pretrained(\"llama-2-7b\")\n",
        "tokenizer = AutoTokenizer.from_pretrained(\"llama-2-7b\")"
      ]
    },
    {
      "cell_type": "code",
      "source": [
        "from datasets import load_dataset\n",
        "dataset = load_dataset(\"your_dataset\")\n",
        "tokenized_data = tokenizer(dataset[\"text\"], truncation=True, padding=True)"
      ],
      "metadata": {
        "id": "j3vqdKLMyDq8"
      },
      "execution_count": null,
      "outputs": []
    },
    {
      "cell_type": "code",
      "source": [
        "from transformers import TrainingArguments\n",
        "training_args = TrainingArguments(\n",
        "    output_dir=\"./results\",\n",
        "    per_device_train_batch_size=4,\n",
        "    num_train_epochs=3,\n",
        "    learning_rate=5e-5,\n",
        ")"
      ],
      "metadata": {
        "id": "rKb1nc65yH3E"
      },
      "execution_count": null,
      "outputs": []
    },
    {
      "cell_type": "code",
      "source": [
        "from transformers import Trainer\n",
        "trainer = Trainer(\n",
        "    model=model,\n",
        "    args=training_args,\n",
        "    train_dataset=tokenized_data,  # Training dataset\n",
        "    eval_dataset=tokenized_data_val,  # Validation dataset\n",
        ")\n",
        "trainer.train()"
      ],
      "metadata": {
        "id": "70Sr6MaWyROC"
      },
      "execution_count": null,
      "outputs": []
    },
    {
      "cell_type": "code",
      "source": [
        "trainer.save_model(\"fine-tuned-llm\")"
      ],
      "metadata": {
        "id": "eCbWupPtyWFJ"
      },
      "execution_count": null,
      "outputs": []
    }
  ]
}